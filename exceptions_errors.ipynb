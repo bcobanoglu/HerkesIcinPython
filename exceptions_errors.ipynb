{
  "cells": [
    {
      "cell_type": "markdown",
      "metadata": {
        "id": "kExNVZ0672W0"
      },
      "source": [
        "![image.png](data:image/png;base64,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)"
      ]
    },
    {
      "cell_type": "code",
      "execution_count": 63,
      "metadata": {
        "colab": {
          "base_uri": "https://localhost:8080/",
          "height": 141
        },
        "id": "g_8hL2RgT3qZ",
        "outputId": "2eff5774-9295-41ea-caee-94d3a5616a3a"
      },
      "outputs": [
        {
          "output_type": "error",
          "ename": "SyntaxError",
          "evalue": "Missing parentheses in call to 'print'. Did you mean print(...)? (<ipython-input-63-2ee3d0f4b1ea>, line 1)",
          "traceback": [
            "\u001b[0;36m  File \u001b[0;32m\"<ipython-input-63-2ee3d0f4b1ea>\"\u001b[0;36m, line \u001b[0;32m1\u001b[0m\n\u001b[0;31m    print \"ASla hata yapmam, demeyin!!\"\u001b[0m\n\u001b[0m    ^\u001b[0m\n\u001b[0;31mSyntaxError\u001b[0m\u001b[0;31m:\u001b[0m Missing parentheses in call to 'print'. Did you mean print(...)?\n"
          ]
        }
      ],
      "source": [
        "print \"ASla hata yapmam, demeyin!!\""
      ]
    },
    {
      "cell_type": "code",
      "execution_count": 64,
      "metadata": {
        "colab": {
          "base_uri": "https://localhost:8080/",
          "height": 141
        },
        "id": "EZfRUYinT3qb",
        "outputId": "3ffb1f1f-8860-4a07-88d7-fabad31ecd8b"
      },
      "outputs": [
        {
          "output_type": "error",
          "ename": "SyntaxError",
          "evalue": "expected ':' (<ipython-input-64-94d859a4fa80>, line 4)",
          "traceback": [
            "\u001b[0;36m  File \u001b[0;32m\"<ipython-input-64-94d859a4fa80>\"\u001b[0;36m, line \u001b[0;32m4\u001b[0m\n\u001b[0;31m    else\u001b[0m\n\u001b[0m        ^\u001b[0m\n\u001b[0;31mSyntaxError\u001b[0m\u001b[0;31m:\u001b[0m expected ':'\n"
          ]
        }
      ],
      "source": [
        "status = []\n",
        "if status:\n",
        "    print(\"''Merhaba'\")\n",
        "else\n",
        "    print(\"Hello world'\")"
      ]
    },
    {
      "cell_type": "code",
      "execution_count": null,
      "metadata": {
        "id": "fRTZEoNwT3qc"
      },
      "outputs": [],
      "source": [
        "\"a\" + 77"
      ]
    },
    {
      "cell_type": "code",
      "execution_count": 66,
      "metadata": {
        "colab": {
          "base_uri": "https://localhost:8080/",
          "height": 228
        },
        "id": "JwEUG7bwT3qd",
        "outputId": "713bf5bf-ca0f-46c9-9cbf-1702ab11b9f9"
      },
      "outputs": [
        {
          "output_type": "error",
          "ename": "NameError",
          "evalue": "name 'X' is not defined",
          "traceback": [
            "\u001b[0;31m---------------------------------------------------------------------------\u001b[0m",
            "\u001b[0;31mNameError\u001b[0m                                 Traceback (most recent call last)",
            "\u001b[0;32m<ipython-input-66-1e89b1cf2ce9>\u001b[0m in \u001b[0;36m<cell line: 3>\u001b[0;34m()\u001b[0m\n\u001b[1;32m      2\u001b[0m \u001b[0my\u001b[0m \u001b[0;34m=\u001b[0m \u001b[0;34m[\u001b[0m\u001b[0;34m\"a\"\u001b[0m\u001b[0;34m,\u001b[0m\u001b[0;34m\"b\"\u001b[0m\u001b[0;34m,\u001b[0m\u001b[0;34m\"c\"\u001b[0m\u001b[0;34m]\u001b[0m\u001b[0;34m\u001b[0m\u001b[0;34m\u001b[0m\u001b[0m\n\u001b[1;32m      3\u001b[0m \u001b[0;32mfor\u001b[0m \u001b[0mi\u001b[0m \u001b[0;32min\u001b[0m \u001b[0my\u001b[0m\u001b[0;34m:\u001b[0m\u001b[0;34m\u001b[0m\u001b[0;34m\u001b[0m\u001b[0m\n\u001b[0;32m----> 4\u001b[0;31m     \u001b[0;32mfor\u001b[0m \u001b[0mj\u001b[0m \u001b[0;32min\u001b[0m \u001b[0mX\u001b[0m\u001b[0;34m:\u001b[0m\u001b[0;34m\u001b[0m\u001b[0;34m\u001b[0m\u001b[0m\n\u001b[0m\u001b[1;32m      5\u001b[0m         \u001b[0mprint\u001b[0m\u001b[0;34m(\u001b[0m\u001b[0mtype\u001b[0m\u001b[0;34m(\u001b[0m\u001b[0;34m[\u001b[0m\u001b[0mtuple\u001b[0m\u001b[0;34m(\u001b[0m\u001b[0mi\u001b[0m\u001b[0;34m+\u001b[0m\u001b[0mj\u001b[0m\u001b[0;34m)\u001b[0m\u001b[0;34m]\u001b[0m\u001b[0;34m)\u001b[0m\u001b[0;34m)\u001b[0m\u001b[0;34m\u001b[0m\u001b[0;34m\u001b[0m\u001b[0m\n",
            "\u001b[0;31mNameError\u001b[0m: name 'X' is not defined"
          ]
        }
      ],
      "source": [
        "x = [1,2,3]\n",
        "y = [\"a\",\"b\",\"c\"]\n",
        "for i in y:\n",
        "    for j in X:\n",
        "        print(type([tuple(i+j)]))"
      ]
    },
    {
      "cell_type": "code",
      "execution_count": 69,
      "metadata": {
        "colab": {
          "base_uri": "https://localhost:8080/",
          "height": 176
        },
        "id": "DWFg2qWDT3qe",
        "outputId": "d0c30399-8c01-43a2-9ce5-c8502eed8114"
      },
      "outputs": [
        {
          "output_type": "error",
          "ename": "ValueError",
          "evalue": "invalid literal for int() with base 10: 'a88'",
          "traceback": [
            "\u001b[0;31m---------------------------------------------------------------------------\u001b[0m",
            "\u001b[0;31mValueError\u001b[0m                                Traceback (most recent call last)",
            "\u001b[0;32m<ipython-input-69-947a06ff5b6b>\u001b[0m in \u001b[0;36m<cell line: 1>\u001b[0;34m()\u001b[0m\n\u001b[0;32m----> 1\u001b[0;31m \u001b[0mint\u001b[0m\u001b[0;34m(\u001b[0m\u001b[0;34m\"a88\"\u001b[0m\u001b[0;34m)\u001b[0m\u001b[0;34m\u001b[0m\u001b[0;34m\u001b[0m\u001b[0m\n\u001b[0m",
            "\u001b[0;31mValueError\u001b[0m: invalid literal for int() with base 10: 'a88'"
          ]
        }
      ],
      "source": [
        "int(\"a88\")"
      ]
    },
    {
      "cell_type": "code",
      "execution_count": 71,
      "metadata": {
        "colab": {
          "base_uri": "https://localhost:8080/",
          "height": 211
        },
        "id": "ovAzlMSwT3qe",
        "outputId": "1689c44a-4c2b-447f-f4c0-258114ef36b2"
      },
      "outputs": [
        {
          "name": "stdout",
          "output_type": "stream",
          "text": [
            "0-4 arası indis gir9\n"
          ]
        },
        {
          "output_type": "error",
          "ename": "IndexError",
          "evalue": "list index out of range",
          "traceback": [
            "\u001b[0;31m---------------------------------------------------------------------------\u001b[0m",
            "\u001b[0;31mIndexError\u001b[0m                                Traceback (most recent call last)",
            "\u001b[0;32m<ipython-input-71-bdbda174819f>\u001b[0m in \u001b[0;36m<cell line: 2>\u001b[0;34m()\u001b[0m\n\u001b[1;32m      1\u001b[0m \u001b[0mindis\u001b[0m \u001b[0;34m=\u001b[0m \u001b[0mint\u001b[0m\u001b[0;34m(\u001b[0m\u001b[0minput\u001b[0m\u001b[0;34m(\u001b[0m\u001b[0;34m\"0-4 arası indis gir\"\u001b[0m\u001b[0;34m)\u001b[0m\u001b[0;34m)\u001b[0m\u001b[0;34m\u001b[0m\u001b[0;34m\u001b[0m\u001b[0m\n\u001b[0;32m----> 2\u001b[0;31m \u001b[0;34m[\u001b[0m\u001b[0;36m1\u001b[0m\u001b[0;34m,\u001b[0m\u001b[0;36m2\u001b[0m\u001b[0;34m,\u001b[0m\u001b[0;36m3\u001b[0m\u001b[0;34m,\u001b[0m\u001b[0;36m4\u001b[0m\u001b[0;34m]\u001b[0m\u001b[0;34m[\u001b[0m\u001b[0mindis\u001b[0m\u001b[0;34m]\u001b[0m\u001b[0;34m\u001b[0m\u001b[0;34m\u001b[0m\u001b[0m\n\u001b[0m",
            "\u001b[0;31mIndexError\u001b[0m: list index out of range"
          ]
        }
      ],
      "source": [
        "indis = int(input(\"0-4 arası indis gir\"))\n",
        "[1,2,3,4][indis]"
      ]
    },
    {
      "cell_type": "code",
      "execution_count": 72,
      "metadata": {
        "colab": {
          "base_uri": "https://localhost:8080/"
        },
        "id": "uzeDjrGVT3qf",
        "outputId": "9f1add84-a11b-4a57-9704-721cbeb4ff2a"
      },
      "outputs": [
        {
          "output_type": "stream",
          "name": "stdout",
          "text": [
            "0-4 arası indis gir7\n",
            "HAta oldu, türü...: list index out of range\n"
          ]
        }
      ],
      "source": [
        "try:\n",
        "    indis = int(input(\"0-4 arası indis gir\"))\n",
        "    [1,2,3,4][indis]\n",
        "\n",
        "except Exception as ex:\n",
        "\n",
        "    print(\"HAta oldu, türü...:\", ex)"
      ]
    },
    {
      "cell_type": "code",
      "source": [
        "4 + spam/3"
      ],
      "metadata": {
        "id": "tccCQ2r2fYDB"
      },
      "execution_count": null,
      "outputs": []
    },
    {
      "cell_type": "markdown",
      "metadata": {
        "id": "hM4wnfQ-G4Sa"
      },
      "source": [
        "# Exception Handling"
      ]
    },
    {
      "cell_type": "markdown",
      "metadata": {
        "id": "fGWALB3RHjMg"
      },
      "source": [
        "![image.png](data:image/png;base64,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)"
      ]
    },
    {
      "cell_type": "code",
      "execution_count": 74,
      "metadata": {
        "colab": {
          "base_uri": "https://localhost:8080/",
          "height": 141
        },
        "id": "RwlLb0HbVZHi",
        "outputId": "f370690a-595c-4a76-f684-51a977c6cabb"
      },
      "outputs": [
        {
          "output_type": "error",
          "ename": "SyntaxError",
          "evalue": "incomplete input (<ipython-input-74-6c3543b8d235>, line 2)",
          "traceback": [
            "\u001b[0;36m  File \u001b[0;32m\"<ipython-input-74-6c3543b8d235>\"\u001b[0;36m, line \u001b[0;32m2\u001b[0m\n\u001b[0;31m    x = 4/1\u001b[0m\n\u001b[0m           ^\u001b[0m\n\u001b[0;31mSyntaxError\u001b[0m\u001b[0;31m:\u001b[0m incomplete input\n"
          ]
        }
      ],
      "source": [
        "try: #tek başına kullanılmaz, except veya finally ister\n",
        "    x = 4/1\n"
      ]
    },
    {
      "cell_type": "code",
      "execution_count": 75,
      "metadata": {
        "colab": {
          "base_uri": "https://localhost:8080/",
          "height": 141
        },
        "id": "qH3tCLvUVhdb",
        "outputId": "894ad1b5-5d54-4169-d79c-40b3954d8160"
      },
      "outputs": [
        {
          "output_type": "error",
          "ename": "SyntaxError",
          "evalue": "expected 'except' or 'finally' block (<ipython-input-75-40f5f2af8bf5>, line 3)",
          "traceback": [
            "\u001b[0;36m  File \u001b[0;32m\"<ipython-input-75-40f5f2af8bf5>\"\u001b[0;36m, line \u001b[0;32m3\u001b[0m\n\u001b[0;31m    else:\u001b[0m\n\u001b[0m    ^\u001b[0m\n\u001b[0;31mSyntaxError\u001b[0m\u001b[0;31m:\u001b[0m expected 'except' or 'finally' block\n"
          ]
        }
      ],
      "source": [
        "try:\n",
        "    x = 4/1\n",
        "else:\n",
        "    print(\"x yazdırılır\")"
      ]
    },
    {
      "cell_type": "code",
      "execution_count": 76,
      "metadata": {
        "colab": {
          "base_uri": "https://localhost:8080/"
        },
        "id": "2_c5N8hUVvQr",
        "outputId": "f4e45cb4-9381-49d1-8384-8cab2edef6a3"
      },
      "outputs": [
        {
          "output_type": "stream",
          "name": "stdout",
          "text": [
            "x yazdırılır\n"
          ]
        }
      ],
      "source": [
        "try:\n",
        "    x = 4/1\n",
        "finally:\n",
        "    print(\"x yazdırılır\")"
      ]
    },
    {
      "cell_type": "code",
      "execution_count": 77,
      "metadata": {
        "id": "K5qhYj1HV3VN"
      },
      "outputs": [],
      "source": [
        "try:\n",
        "    x = 4/1\n",
        "except:\n",
        "    print(\"bir hata oluştu\")\n"
      ]
    },
    {
      "cell_type": "code",
      "execution_count": 79,
      "metadata": {
        "colab": {
          "base_uri": "https://localhost:8080/"
        },
        "id": "O73RNrkoWCZ-",
        "outputId": "70293b60-9cad-4cac-df44-d2a9d7dffd3d"
      },
      "outputs": [
        {
          "output_type": "stream",
          "name": "stdout",
          "text": [
            "bir hata oluştu\n",
            "ben her zaman çalışırım\n"
          ]
        }
      ],
      "source": [
        "try:\n",
        "    x = 4/0\n",
        "except:\n",
        "    print(\"bir hata oluştu\")\n",
        "finally:\n",
        "    print(\"ben her zaman çalışırım\")"
      ]
    },
    {
      "cell_type": "code",
      "source": [
        "x = 5; y = \"0\"\n",
        "try:\n",
        "    result = x/y\n",
        "\n",
        "except Exception as e:\n",
        "    print(\"Hata var, türü.:\", e)"
      ],
      "metadata": {
        "colab": {
          "base_uri": "https://localhost:8080/"
        },
        "id": "DAx3ty4dWYgN",
        "outputId": "711fbe4f-22ce-4889-9978-c13f13cb7dbe"
      },
      "execution_count": 90,
      "outputs": [
        {
          "output_type": "stream",
          "name": "stdout",
          "text": [
            "Hata var, türü.: unsupported operand type(s) for /: 'int' and 'str'\n"
          ]
        }
      ]
    },
    {
      "cell_type": "code",
      "source": [
        "x = 5; y = \"0\"\n",
        "try:\n",
        "    result = x/y\n",
        "finally:\n",
        "    print(\"hata olsada olmasa da çalış\")"
      ],
      "metadata": {
        "id": "820EkRu2XGb-"
      },
      "execution_count": null,
      "outputs": []
    },
    {
      "cell_type": "code",
      "execution_count": 82,
      "metadata": {
        "colab": {
          "base_uri": "https://localhost:8080/"
        },
        "id": "Kz8UrKVEG3KF",
        "outputId": "f4632181-1c3c-4117-bee7-b799794fa65f"
      },
      "outputs": [
        {
          "output_type": "stream",
          "name": "stdout",
          "text": [
            "Sonuç.:  2.0\n",
            "program çalışması sonlandırıldı\n"
          ]
        }
      ],
      "source": [
        "def divide(x,y):\n",
        "    try:\n",
        "        result = x / y\n",
        "    except ZeroDivisionError:\n",
        "        print (\"sıfıra bölme hatası\")\n",
        "    else:\n",
        "        print(\"Sonuç.: \", result)\n",
        "    finally:\n",
        "        print(\"program çalışması sonlandırıldı\")\n",
        "\n",
        "divide(2,1)"
      ]
    },
    {
      "cell_type": "code",
      "source": [
        "divide(2,0)"
      ],
      "metadata": {
        "colab": {
          "base_uri": "https://localhost:8080/"
        },
        "id": "HlQujkS0dTbT",
        "outputId": "79059305-1d61-4849-bbb8-69debadf60a3"
      },
      "execution_count": 83,
      "outputs": [
        {
          "output_type": "stream",
          "name": "stdout",
          "text": [
            "sıfıra bölme hatası\n",
            "program çalışması sonlandırıldı\n"
          ]
        }
      ]
    },
    {
      "cell_type": "code",
      "execution_count": 81,
      "metadata": {
        "id": "F9c6qS3uKVZS",
        "colab": {
          "base_uri": "https://localhost:8080/"
        },
        "outputId": "9cfb2023-e20a-451a-80e9-74b40a4275d6"
      },
      "outputs": [
        {
          "output_type": "stream",
          "name": "stdout",
          "text": [
            "sıfıra bölme hatası\n"
          ]
        }
      ],
      "source": [
        "def divide(x,y):\n",
        "    try:\n",
        "        result = x / y\n",
        "        print(\"Sonuç.: \", result)\n",
        "    except ZeroDivisionError:\n",
        "        print (\"sıfıra bölme hatası\")\n",
        "\n",
        "\n",
        "divide(2,0)"
      ]
    },
    {
      "cell_type": "code",
      "execution_count": null,
      "metadata": {
        "id": "iO6ztJZaLwBQ"
      },
      "outputs": [],
      "source": [
        "f = open(\"my_file.txt\")"
      ]
    },
    {
      "cell_type": "code",
      "execution_count": null,
      "metadata": {
        "id": "OrD9AoN-MCbk"
      },
      "outputs": [],
      "source": [
        "try:\n",
        "  f = open(\"my_file.txt\")\n",
        "  print(f.read())\n",
        "except:\n",
        "  print(\"There is not such a file or the path isincorrect.\")"
      ]
    },
    {
      "cell_type": "code",
      "execution_count": null,
      "metadata": {
        "id": "c9PlTLmONE1y"
      },
      "outputs": [],
      "source": [
        "try:\n",
        "  f = open(\"my_file.txt\")\n",
        "  print(f.read())\n",
        "except FileNotFoundError:\n",
        "  print(\"There is not such a file or the path isincorrect.\")"
      ]
    },
    {
      "cell_type": "code",
      "execution_count": null,
      "metadata": {
        "id": "Qk6gW9odWbHR"
      },
      "outputs": [],
      "source": [
        "try:\n",
        "    f = open(\"my_file.txt\")\n",
        "    print(f.read())\n",
        "except FileNotFoundError:\n",
        "    print(\"There is not such a file or the path isincorrect.\")\n",
        "finally:\n",
        "    f.close()  # hata olsa da olmasa da dosyayı kapat."
      ]
    },
    {
      "cell_type": "code",
      "execution_count": 84,
      "metadata": {
        "colab": {
          "base_uri": "https://localhost:8080/"
        },
        "id": "Q6qrShuqQ_jq",
        "outputId": "3d883c4f-f032-4a02-e8e5-cc8d42ea2efc"
      },
      "outputs": [
        {
          "output_type": "stream",
          "name": "stdout",
          "text": [
            "The End\n"
          ]
        },
        {
          "output_type": "execute_result",
          "data": {
            "text/plain": [
              "1"
            ]
          },
          "metadata": {},
          "execution_count": 84
        }
      ],
      "source": [
        "# Önce hangisi çalışır\n",
        "def test():\n",
        "    try:\n",
        "        1+0\n",
        "    except:\n",
        "        return 0\n",
        "    else:\n",
        "        return 1\n",
        "    finally:\n",
        "        print(\"The End\")\n",
        "\n",
        "test()\n"
      ]
    },
    {
      "cell_type": "code",
      "source": [
        "def test():\n",
        "    try:\n",
        "        1+3\n",
        "    except:\n",
        "        return 0\n",
        "    else:\n",
        "        return 1\n",
        "    finally:\n",
        "        return \"The End\"\n",
        "\n",
        "test()"
      ],
      "metadata": {
        "colab": {
          "base_uri": "https://localhost:8080/",
          "height": 35
        },
        "id": "WyGTfw2UY9I9",
        "outputId": "41d7e071-dea2-4771-adf4-f32145bb8fa7"
      },
      "execution_count": 87,
      "outputs": [
        {
          "output_type": "execute_result",
          "data": {
            "text/plain": [
              "'The End'"
            ],
            "application/vnd.google.colaboratory.intrinsic+json": {
              "type": "string"
            }
          },
          "metadata": {},
          "execution_count": 87
        }
      ]
    },
    {
      "cell_type": "code",
      "execution_count": 91,
      "metadata": {
        "colab": {
          "base_uri": "https://localhost:8080/"
        },
        "id": "3mCofXLGXLJa",
        "outputId": "7d609086-ace1-4a85-d3c5-2d80bc71bb93"
      },
      "outputs": [
        {
          "output_type": "stream",
          "name": "stdout",
          "text": [
            "Sıfıra bölme hatası\n"
          ]
        }
      ],
      "source": [
        "# Exception hiyerarşisi\n",
        "try:\n",
        "    x = 2/0\n",
        "except ZeroDivisionError:\n",
        "    print(\"Sıfıra bölme hatası\")\n",
        "except Exception:\n",
        "    print(\"Genel bir hata\")"
      ]
    },
    {
      "cell_type": "code",
      "execution_count": 92,
      "metadata": {
        "colab": {
          "base_uri": "https://localhost:8080/"
        },
        "id": "pv4ovDEMXape",
        "outputId": "b6809acb-8f2f-4e38-a32d-87b47a05ae01"
      },
      "outputs": [
        {
          "output_type": "stream",
          "name": "stdout",
          "text": [
            "Genel bir hata\n"
          ]
        }
      ],
      "source": [
        "# Exception hiyerarşisi\n",
        "try:\n",
        "    x = 2/0\n",
        "\n",
        "except Exception:\n",
        "    print(\"Genel bir hata\")\n",
        "\n",
        "except ZeroDivisionError:\n",
        "    print(\"Sıfıra bölme hatası\")\n"
      ]
    },
    {
      "cell_type": "code",
      "execution_count": 95,
      "metadata": {
        "colab": {
          "base_uri": "https://localhost:8080/"
        },
        "id": "vr4HZzZ3XmgZ",
        "outputId": "db122bad-79f7-4917-e48c-8c92e1c25db2"
      },
      "outputs": [
        {
          "output_type": "stream",
          "name": "stdout",
          "text": [
            "Genel bir hata unsupported operand type(s) for /: 'int' and 'str'\n"
          ]
        }
      ],
      "source": [
        "try:\n",
        "    x = 2/\"0\"\n",
        "\n",
        "except TypeError as e:\n",
        "    print(\"Genel bir hata\", e)\n",
        "\n",
        "except ZeroDivisionError:\n",
        "    print(\"Sıfıra bölme hatası\")"
      ]
    },
    {
      "cell_type": "code",
      "execution_count": 96,
      "metadata": {
        "colab": {
          "base_uri": "https://localhost:8080/"
        },
        "id": "xrvCocGAYQh-",
        "outputId": "c2e75d15-10a6-48ea-a608-5002580db75f"
      },
      "outputs": [
        {
          "output_type": "stream",
          "name": "stdout",
          "text": [
            "Tip veya Değer veya Sıfıra böme hatası\n"
          ]
        }
      ],
      "source": [
        "try:\n",
        "    x = 2+ B\n",
        "\n",
        "except (TypeError, ZeroDivisionError, ValueError, NameError):\n",
        "    print(\"Tip veya Değer veya Sıfıra böme hatası\")\n",
        "\n",
        "except:\n",
        "    print(\"Başka bir hata\")"
      ]
    },
    {
      "cell_type": "code",
      "source": [
        "import sys\n",
        "sys.platform"
      ],
      "metadata": {
        "colab": {
          "base_uri": "https://localhost:8080/",
          "height": 35
        },
        "id": "JBOxDWgwhj2i",
        "outputId": "e411a855-49b2-4fec-f178-9aa92a4d2bb7"
      },
      "execution_count": 98,
      "outputs": [
        {
          "output_type": "execute_result",
          "data": {
            "text/plain": [
              "'linux'"
            ],
            "application/vnd.google.colaboratory.intrinsic+json": {
              "type": "string"
            }
          },
          "metadata": {},
          "execution_count": 98
        }
      ]
    },
    {
      "cell_type": "code",
      "source": [
        "# raise ile bilerek hata fırlatma\n",
        "import sys\n",
        "if sys.platform.startswith(\"linux\"):\n",
        "    raise Exception(\"Oops, sistem hatası...\")\n",
        "print(\"hoş geldiniz\")"
      ],
      "metadata": {
        "colab": {
          "base_uri": "https://localhost:8080/",
          "height": 228
        },
        "id": "HxYVQcDoalhF",
        "outputId": "7c7c78d5-c9d2-469e-e6ff-ec354191235e"
      },
      "execution_count": 100,
      "outputs": [
        {
          "output_type": "error",
          "ename": "Exception",
          "evalue": "Oops, sistem hatası...",
          "traceback": [
            "\u001b[0;31m---------------------------------------------------------------------------\u001b[0m",
            "\u001b[0;31mException\u001b[0m                                 Traceback (most recent call last)",
            "\u001b[0;32m<ipython-input-100-7a2bbbbca102>\u001b[0m in \u001b[0;36m<cell line: 3>\u001b[0;34m()\u001b[0m\n\u001b[1;32m      2\u001b[0m \u001b[0;32mimport\u001b[0m \u001b[0msys\u001b[0m\u001b[0;34m\u001b[0m\u001b[0;34m\u001b[0m\u001b[0m\n\u001b[1;32m      3\u001b[0m \u001b[0;32mif\u001b[0m \u001b[0msys\u001b[0m\u001b[0;34m.\u001b[0m\u001b[0mplatform\u001b[0m\u001b[0;34m.\u001b[0m\u001b[0mstartswith\u001b[0m\u001b[0;34m(\u001b[0m\u001b[0;34m\"linux\"\u001b[0m\u001b[0;34m)\u001b[0m\u001b[0;34m:\u001b[0m\u001b[0;34m\u001b[0m\u001b[0;34m\u001b[0m\u001b[0m\n\u001b[0;32m----> 4\u001b[0;31m     \u001b[0;32mraise\u001b[0m \u001b[0mException\u001b[0m\u001b[0;34m(\u001b[0m\u001b[0;34m\"Oops, sistem hatası...\"\u001b[0m\u001b[0;34m)\u001b[0m\u001b[0;34m\u001b[0m\u001b[0;34m\u001b[0m\u001b[0m\n\u001b[0m\u001b[1;32m      5\u001b[0m \u001b[0mprint\u001b[0m\u001b[0;34m(\u001b[0m\u001b[0;34m\"hoş geldiniz\"\u001b[0m\u001b[0;34m)\u001b[0m\u001b[0;34m\u001b[0m\u001b[0;34m\u001b[0m\u001b[0m\n",
            "\u001b[0;31mException\u001b[0m: Oops, sistem hatası..."
          ]
        }
      ]
    },
    {
      "cell_type": "code",
      "source": [
        "#assert kullanımı\n",
        "def is_even(number):\n",
        "    \"\"\"Bir sayının çift olup olmadığını kontrol eder.\"\"\"\n",
        "    assert number % 2 == 0, \"Sayı çift olmalıdır.\"\n",
        "    return number % 2 == 0\n",
        "\n",
        "\n",
        "print(is_even(2))  # True\n",
        "print(is_even(3))  # False\n"
      ],
      "metadata": {
        "colab": {
          "base_uri": "https://localhost:8080/",
          "height": 349
        },
        "id": "Qul-yfJ-bdOj",
        "outputId": "71f42218-1013-4698-a0d6-d17ab71bfce8"
      },
      "execution_count": 101,
      "outputs": [
        {
          "output_type": "stream",
          "name": "stdout",
          "text": [
            "True\n"
          ]
        },
        {
          "output_type": "error",
          "ename": "AssertionError",
          "evalue": "Sayı çift olmalıdır.",
          "traceback": [
            "\u001b[0;31m---------------------------------------------------------------------------\u001b[0m",
            "\u001b[0;31mAssertionError\u001b[0m                            Traceback (most recent call last)",
            "\u001b[0;32m<ipython-input-101-a2196609f194>\u001b[0m in \u001b[0;36m<cell line: 9>\u001b[0;34m()\u001b[0m\n\u001b[1;32m      7\u001b[0m \u001b[0;34m\u001b[0m\u001b[0m\n\u001b[1;32m      8\u001b[0m \u001b[0mprint\u001b[0m\u001b[0;34m(\u001b[0m\u001b[0mis_even\u001b[0m\u001b[0;34m(\u001b[0m\u001b[0;36m2\u001b[0m\u001b[0;34m)\u001b[0m\u001b[0;34m)\u001b[0m  \u001b[0;31m# True\u001b[0m\u001b[0;34m\u001b[0m\u001b[0;34m\u001b[0m\u001b[0m\n\u001b[0;32m----> 9\u001b[0;31m \u001b[0mprint\u001b[0m\u001b[0;34m(\u001b[0m\u001b[0mis_even\u001b[0m\u001b[0;34m(\u001b[0m\u001b[0;36m3\u001b[0m\u001b[0;34m)\u001b[0m\u001b[0;34m)\u001b[0m  \u001b[0;31m# False\u001b[0m\u001b[0;34m\u001b[0m\u001b[0;34m\u001b[0m\u001b[0m\n\u001b[0m",
            "\u001b[0;32m<ipython-input-101-a2196609f194>\u001b[0m in \u001b[0;36mis_even\u001b[0;34m(number)\u001b[0m\n\u001b[1;32m      2\u001b[0m \u001b[0;32mdef\u001b[0m \u001b[0mis_even\u001b[0m\u001b[0;34m(\u001b[0m\u001b[0mnumber\u001b[0m\u001b[0;34m)\u001b[0m\u001b[0;34m:\u001b[0m\u001b[0;34m\u001b[0m\u001b[0;34m\u001b[0m\u001b[0m\n\u001b[1;32m      3\u001b[0m     \u001b[0;34m\"\"\"Bir sayının çift olup olmadığını kontrol eder.\"\"\"\u001b[0m\u001b[0;34m\u001b[0m\u001b[0;34m\u001b[0m\u001b[0m\n\u001b[0;32m----> 4\u001b[0;31m     \u001b[0;32massert\u001b[0m \u001b[0mnumber\u001b[0m \u001b[0;34m%\u001b[0m \u001b[0;36m2\u001b[0m \u001b[0;34m==\u001b[0m \u001b[0;36m0\u001b[0m\u001b[0;34m,\u001b[0m \u001b[0;34m\"Sayı çift olmalıdır.\"\u001b[0m\u001b[0;34m\u001b[0m\u001b[0;34m\u001b[0m\u001b[0m\n\u001b[0m\u001b[1;32m      5\u001b[0m     \u001b[0;32mreturn\u001b[0m \u001b[0mnumber\u001b[0m \u001b[0;34m%\u001b[0m \u001b[0;36m2\u001b[0m \u001b[0;34m==\u001b[0m \u001b[0;36m0\u001b[0m\u001b[0;34m\u001b[0m\u001b[0;34m\u001b[0m\u001b[0m\n\u001b[1;32m      6\u001b[0m \u001b[0;34m\u001b[0m\u001b[0m\n",
            "\u001b[0;31mAssertionError\u001b[0m: Sayı çift olmalıdır."
          ]
        }
      ]
    },
    {
      "cell_type": "code",
      "execution_count": 102,
      "metadata": {
        "colab": {
          "base_uri": "https://localhost:8080/"
        },
        "id": "pD8VtSW-T3qo",
        "outputId": "98af095c-8273-47b6-ae59-17586543bdb3"
      },
      "outputs": [
        {
          "output_type": "stream",
          "name": "stdout",
          "text": [
            "c sayı değil.\n",
            "a sayı değil.\n"
          ]
        }
      ],
      "source": [
        "'''Verilen bir listenin her bir elemanının sayı olup/olmadığını test eden\n",
        "basit bir assert uygulamasını gerçekleştiren programı yazınız.\n",
        "@author:Bülent Çobanoğlu\n",
        "'''\n",
        "def test_karakter(liste):\n",
        "    for i in liste:\n",
        "        try:\n",
        "            #i: bir sayı mı?\n",
        "            assert str(i).isnumeric()\n",
        "        #sayı değilse except bloğu çalışır\n",
        "        except AssertionError:\n",
        "            print(\"{} sayı değil.\".format(i))\n",
        "\n",
        "#Ana program\n",
        "liste = [1, 2, 3, 'c', 4, 5, \"a\"]\n",
        "test_karakter(liste)"
      ]
    },
    {
      "cell_type": "code",
      "source": [
        "class BenimHatam(Exception):\n",
        "    def __init__(self, mesaj):\n",
        "        self.mesaj = mesaj"
      ],
      "metadata": {
        "id": "01QChBFLiIPz"
      },
      "execution_count": 103,
      "outputs": []
    },
    {
      "cell_type": "code",
      "source": [
        "try:\n",
        "    raise BenimHatam(\"Bir hata oldu\")\n",
        "except BenimHatam as hata:\n",
        "    print(\"Üzgünüm\", hata.mesaj)"
      ],
      "metadata": {
        "colab": {
          "base_uri": "https://localhost:8080/"
        },
        "id": "IABE1G3iiXdu",
        "outputId": "23731273-cecd-41f8-f835-e10846dd3bd1"
      },
      "execution_count": 104,
      "outputs": [
        {
          "output_type": "stream",
          "name": "stdout",
          "text": [
            "Üzgünüm Bir hata oldu\n"
          ]
        }
      ]
    }
  ],
  "metadata": {
    "colab": {
      "provenance": []
    },
    "kernelspec": {
      "display_name": "Python 3",
      "name": "python3"
    },
    "language_info": {
      "codemirror_mode": {
        "name": "ipython",
        "version": 3
      },
      "file_extension": ".py",
      "mimetype": "text/x-python",
      "name": "python",
      "nbconvert_exporter": "python",
      "pygments_lexer": "ipython3",
      "version": "3.11.6"
    }
  },
  "nbformat": 4,
  "nbformat_minor": 0
}